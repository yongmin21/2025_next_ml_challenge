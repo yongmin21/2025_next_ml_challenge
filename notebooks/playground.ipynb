{
 "cells": [
  {
   "cell_type": "markdown",
   "id": "546a8b66",
   "metadata": {},
   "source": [
    "## Import"
   ]
  },
  {
   "cell_type": "code",
   "execution_count": 3,
   "id": "8002e6e5",
   "metadata": {},
   "outputs": [],
   "source": [
    "import pandas as pd\n",
    "import numpy as np\n",
    "import os\n",
    "import random\n",
    "import polars as pl\n",
    "from sklearn.model_selection import train_test_split\n",
    "from tqdm import tqdm\n",
    "import duckdb\n",
    "import torch\n",
    "import torch.nn as nn\n",
    "import torch.nn.functional as F\n",
    "import torch.optim as optim\n",
    "from torch.utils.data import Dataset, DataLoader, random_split"
   ]
  },
  {
   "cell_type": "markdown",
   "id": "a949c766",
   "metadata": {},
   "source": [
    "## Setting"
   ]
  },
  {
   "cell_type": "code",
   "execution_count": 4,
   "id": "37e9d1e1",
   "metadata": {},
   "outputs": [],
   "source": [
    "CFG = {\n",
    "    'BATCH_SIZE': 4096,\n",
    "    'EPOCHS': 10,\n",
    "    'LEARNING_RATE': 1e-3,\n",
    "    'SEED' : 42\n",
    "}\n",
    "device = \"cuda\" if torch.cuda.is_available() else \"cpu\""
   ]
  },
  {
   "cell_type": "code",
   "execution_count": 5,
   "id": "85588a50",
   "metadata": {},
   "outputs": [],
   "source": [
    "def seed_everything(seed):\n",
    "    random.seed(seed)\n",
    "    os.environ['PYTHONHASHSEED'] = str(seed)\n",
    "    np.random.seed(seed)\n",
    "    torch.manual_seed(seed)\n",
    "    torch.cuda.manual_seed(seed)\n",
    "    torch.backends.cudnn.deterministic = True\n",
    "    torch.backends.cudnn.benchmark = False\n",
    "\n",
    "seed_everything(CFG['SEED']) # Seed 고정"
   ]
  },
  {
   "cell_type": "markdown",
   "id": "4869209f",
   "metadata": {},
   "source": [
    "## Data Load"
   ]
  },
  {
   "cell_type": "code",
   "execution_count": 6,
   "id": "849e1218",
   "metadata": {},
   "outputs": [
    {
     "data": {
      "text/html": [
       "<div><style>\n",
       ".dataframe > thead > tr,\n",
       ".dataframe > tbody > tr {\n",
       "  text-align: right;\n",
       "  white-space: pre-wrap;\n",
       "}\n",
       "</style>\n",
       "<small>shape: (5, 119)</small><table border=\"1\" class=\"dataframe\"><thead><tr><th>gender</th><th>age_group</th><th>inventory_id</th><th>day_of_week</th><th>hour</th><th>seq</th><th>l_feat_1</th><th>l_feat_2</th><th>l_feat_3</th><th>l_feat_4</th><th>l_feat_5</th><th>l_feat_6</th><th>l_feat_7</th><th>l_feat_8</th><th>l_feat_9</th><th>l_feat_10</th><th>l_feat_11</th><th>l_feat_12</th><th>l_feat_13</th><th>l_feat_14</th><th>l_feat_15</th><th>l_feat_16</th><th>l_feat_17</th><th>l_feat_18</th><th>l_feat_19</th><th>l_feat_20</th><th>l_feat_21</th><th>l_feat_22</th><th>l_feat_23</th><th>l_feat_24</th><th>l_feat_25</th><th>l_feat_26</th><th>l_feat_27</th><th>feat_e_1</th><th>feat_e_2</th><th>feat_e_3</th><th>feat_e_4</th><th>&hellip;</th><th>history_a_2</th><th>history_a_3</th><th>history_a_4</th><th>history_a_5</th><th>history_a_6</th><th>history_a_7</th><th>history_b_1</th><th>history_b_2</th><th>history_b_3</th><th>history_b_4</th><th>history_b_5</th><th>history_b_6</th><th>history_b_7</th><th>history_b_8</th><th>history_b_9</th><th>history_b_10</th><th>history_b_11</th><th>history_b_12</th><th>history_b_13</th><th>history_b_14</th><th>history_b_15</th><th>history_b_16</th><th>history_b_17</th><th>history_b_18</th><th>history_b_19</th><th>history_b_20</th><th>history_b_21</th><th>history_b_22</th><th>history_b_23</th><th>history_b_24</th><th>history_b_25</th><th>history_b_26</th><th>history_b_27</th><th>history_b_28</th><th>history_b_29</th><th>history_b_30</th><th>clicked</th></tr><tr><td>str</td><td>str</td><td>str</td><td>str</td><td>str</td><td>str</td><td>f32</td><td>f32</td><td>f32</td><td>f32</td><td>f32</td><td>f32</td><td>f32</td><td>f32</td><td>f32</td><td>f32</td><td>f32</td><td>f32</td><td>f32</td><td>f32</td><td>f32</td><td>f32</td><td>f32</td><td>f32</td><td>f32</td><td>f32</td><td>f32</td><td>f32</td><td>f32</td><td>f32</td><td>f32</td><td>f32</td><td>f32</td><td>f32</td><td>f32</td><td>f32</td><td>f32</td><td>&hellip;</td><td>f32</td><td>f32</td><td>f32</td><td>f32</td><td>f32</td><td>f32</td><td>f32</td><td>f32</td><td>f32</td><td>f32</td><td>f32</td><td>f32</td><td>f32</td><td>f32</td><td>f32</td><td>f32</td><td>f32</td><td>f32</td><td>f32</td><td>f32</td><td>f32</td><td>f32</td><td>f32</td><td>f32</td><td>f32</td><td>f32</td><td>f32</td><td>f32</td><td>f32</td><td>f32</td><td>f32</td><td>f32</td><td>f32</td><td>f32</td><td>f32</td><td>f32</td><td>i32</td></tr></thead><tbody><tr><td>&quot;1.0&quot;</td><td>&quot;7.0&quot;</td><td>&quot;36&quot;</td><td>&quot;5&quot;</td><td>&quot;13&quot;</td><td>&quot;9,18,269,516,57,97,527,74,317,…</td><td>1.0</td><td>2.0</td><td>1.0</td><td>23.0</td><td>1.0</td><td>1.0</td><td>193.0</td><td>2.0</td><td>50.0</td><td>118.0</td><td>743.0</td><td>2877.0</td><td>2.0</td><td>1591.0</td><td>1058.0</td><td>2.0</td><td>50.0</td><td>1.0</td><td>2.0</td><td>2.0</td><td>2.0</td><td>2.0</td><td>1.0</td><td>1.0</td><td>1129.0</td><td>5.0</td><td>2.0</td><td>65.0</td><td>-4230.666504</td><td>23.863636</td><td>-0.05</td><td>&hellip;</td><td>-0.055556</td><td>0.02439</td><td>-326.857147</td><td>-0.014493</td><td>-183.285721</td><td>-13.596154</td><td>0.115821</td><td>0.138626</td><td>0.047507</td><td>0.050622</td><td>0.026479</td><td>0.001558</td><td>0.024922</td><td>0.051401</td><td>0.004673</td><td>0.021028</td><td>0.072428</td><td>0.007009</td><td>0.028816</td><td>0.05841</td><td>0.000779</td><td>0.072428</td><td>0.016355</td><td>0.011682</td><td>0.010124</td><td>0.002336</td><td>0.008567</td><td>0.070092</td><td>0.070092</td><td>0.011682</td><td>0.004673</td><td>0.087226</td><td>0.049843</td><td>0.015576</td><td>0.040498</td><td>0.051401</td><td>0</td></tr><tr><td>&quot;1.0&quot;</td><td>&quot;7.0&quot;</td><td>&quot;2&quot;</td><td>&quot;5&quot;</td><td>&quot;08&quot;</td><td>&quot;9,144,269,57,516,97,527,74,315…</td><td>2.0</td><td>2.0</td><td>3.0</td><td>17.0</td><td>193.0</td><td>116.0</td><td>164.0</td><td>2.0</td><td>14.0</td><td>109.0</td><td>674.0</td><td>218.0</td><td>2.0</td><td>122.0</td><td>751.0</td><td>1.0</td><td>14.0</td><td>1.0</td><td>2.0</td><td>2.0</td><td>2.0</td><td>2.0</td><td>1.0</td><td>1.0</td><td>1129.0</td><td>16.0</td><td>1.0</td><td>65.0</td><td>-1346.648193</td><td>4.545455</td><td>-0.05</td><td>&hellip;</td><td>0.0</td><td>0.0</td><td>-382.285706</td><td>0.0</td><td>-176.0</td><td>-11.442307</td><td>0.068794</td><td>0.072179</td><td>0.049471</td><td>0.052715</td><td>0.027574</td><td>0.001622</td><td>0.025952</td><td>0.053526</td><td>0.004866</td><td>0.021897</td><td>0.075423</td><td>0.007299</td><td>0.030007</td><td>0.060825</td><td>0.000811</td><td>0.075423</td><td>0.017031</td><td>0.012165</td><td>0.010543</td><td>0.002433</td><td>0.008921</td><td>0.07299</td><td>0.07299</td><td>0.012165</td><td>0.004866</td><td>0.045416</td><td>0.051904</td><td>0.01622</td><td>0.042172</td><td>0.026763</td><td>0</td></tr><tr><td>&quot;1.0&quot;</td><td>&quot;7.0&quot;</td><td>&quot;36&quot;</td><td>&quot;5&quot;</td><td>&quot;11&quot;</td><td>&quot;269,516,57,97,165,527,74,77,31…</td><td>1.0</td><td>2.0</td><td>1.0</td><td>7.0</td><td>675.0</td><td>85.0</td><td>227.0</td><td>2.0</td><td>362.0</td><td>212.0</td><td>1029.0</td><td>3916.0</td><td>1.0</td><td>2924.0</td><td>2304.0</td><td>2.0</td><td>362.0</td><td>3.0</td><td>2.0</td><td>2.0</td><td>2.0</td><td>2.0</td><td>1.0</td><td>1.0</td><td>1129.0</td><td>16.0</td><td>1.0</td><td>64.638885</td><td>-3195.388916</td><td>22.727272</td><td>-0.05</td><td>&hellip;</td><td>-0.111111</td><td>0.097561</td><td>-409.0</td><td>-0.014493</td><td>-224.714279</td><td>-13.942307</td><td>0.112947</td><td>0.169634</td><td>0.038753</td><td>0.041295</td><td>0.0216</td><td>0.001271</td><td>0.02033</td><td>0.04193</td><td>0.003812</td><td>0.017153</td><td>0.059083</td><td>0.005718</td><td>0.023506</td><td>0.047647</td><td>0.000635</td><td>0.059083</td><td>0.026683</td><td>0.00953</td><td>0.008259</td><td>0.001906</td><td>0.006988</td><td>0.057177</td><td>0.057177</td><td>0.00953</td><td>0.003812</td><td>0.035577</td><td>0.081318</td><td>0.012706</td><td>0.033036</td><td>0.062898</td><td>0</td></tr><tr><td>&quot;1.0&quot;</td><td>&quot;8.0&quot;</td><td>&quot;37&quot;</td><td>&quot;5&quot;</td><td>&quot;11&quot;</td><td>&quot;269,57,516,21,214,269,561,214,…</td><td>2.0</td><td>2.0</td><td>2.0</td><td>7.0</td><td>294.0</td><td>442.0</td><td>130.0</td><td>2.0</td><td>163.0</td><td>179.0</td><td>102.0</td><td>789.0</td><td>2.0</td><td>2169.0</td><td>439.0</td><td>1.0</td><td>163.0</td><td>1.0</td><td>2.0</td><td>2.0</td><td>2.0</td><td>2.0</td><td>1.0</td><td>1.0</td><td>1129.0</td><td>4.0</td><td>1.0</td><td>65.0</td><td>-4029.962891</td><td>3.863636</td><td>-0.05</td><td>&hellip;</td><td>-0.055556</td><td>0.02439</td><td>-274.428558</td><td>-0.014493</td><td>-127.85714</td><td>-9.846154</td><td>0.159843</td><td>0.198657</td><td>0.068082</td><td>0.072546</td><td>0.037947</td><td>0.002232</td><td>0.035715</td><td>0.073663</td><td>0.006697</td><td>0.030135</td><td>0.103797</td><td>0.010045</td><td>0.041296</td><td>0.083707</td><td>0.002232</td><td>0.103797</td><td>0.023438</td><td>0.016741</td><td>0.014509</td><td>0.003348</td><td>0.012277</td><td>0.100449</td><td>0.100449</td><td>0.016741</td><td>0.006697</td><td>0.062502</td><td>0.07143</td><td>0.022322</td><td>0.058037</td><td>0.073659</td><td>0</td></tr><tr><td>&quot;2.0&quot;</td><td>&quot;7.0&quot;</td><td>&quot;37&quot;</td><td>&quot;5&quot;</td><td>&quot;07&quot;</td><td>&quot;144,269,57,516,35,479,57,516,5…</td><td>2.0</td><td>2.0</td><td>3.0</td><td>24.0</td><td>497.0</td><td>435.0</td><td>171.0</td><td>2.0</td><td>193.0</td><td>131.0</td><td>690.0</td><td>110.0</td><td>1.0</td><td>2084.0</td><td>106.0</td><td>1.0</td><td>193.0</td><td>1.0</td><td>2.0</td><td>2.0</td><td>2.0</td><td>2.0</td><td>1.0</td><td>1.0</td><td>1129.0</td><td>15.0</td><td>4.0</td><td>65.0</td><td>-2106.407471</td><td>8.522727</td><td>-0.05</td><td>&hellip;</td><td>0.0</td><td>0.0</td><td>-407.571442</td><td>0.0</td><td>-199.142853</td><td>-14.019231</td><td>0.056166</td><td>0.063795</td><td>0.043725</td><td>0.046592</td><td>0.024371</td><td>0.001434</td><td>0.022938</td><td>0.047309</td><td>0.004301</td><td>0.019354</td><td>0.066662</td><td>0.006451</td><td>0.026522</td><td>0.05376</td><td>0.000717</td><td>0.066662</td><td>0.015053</td><td>0.010752</td><td>0.009318</td><td>0.00215</td><td>0.007885</td><td>0.064512</td><td>0.064512</td><td>0.010752</td><td>0.004301</td><td>0.040141</td><td>0.045875</td><td>0.014336</td><td>0.037274</td><td>0.023654</td><td>0</td></tr></tbody></table></div>"
      ],
      "text/plain": [
       "shape: (5, 119)\n",
       "┌────────┬───────────┬────────────┬────────────┬───┬────────────┬────────────┬───────────┬─────────┐\n",
       "│ gender ┆ age_group ┆ inventory_ ┆ day_of_wee ┆ … ┆ history_b_ ┆ history_b_ ┆ history_b ┆ clicked │\n",
       "│ ---    ┆ ---       ┆ id         ┆ k          ┆   ┆ 28         ┆ 29         ┆ _30       ┆ ---     │\n",
       "│ str    ┆ str       ┆ ---        ┆ ---        ┆   ┆ ---        ┆ ---        ┆ ---       ┆ i32     │\n",
       "│        ┆           ┆ str        ┆ str        ┆   ┆ f32        ┆ f32        ┆ f32       ┆         │\n",
       "╞════════╪═══════════╪════════════╪════════════╪═══╪════════════╪════════════╪═══════════╪═════════╡\n",
       "│ 1.0    ┆ 7.0       ┆ 36         ┆ 5          ┆ … ┆ 0.015576   ┆ 0.040498   ┆ 0.051401  ┆ 0       │\n",
       "│ 1.0    ┆ 7.0       ┆ 2          ┆ 5          ┆ … ┆ 0.01622    ┆ 0.042172   ┆ 0.026763  ┆ 0       │\n",
       "│ 1.0    ┆ 7.0       ┆ 36         ┆ 5          ┆ … ┆ 0.012706   ┆ 0.033036   ┆ 0.062898  ┆ 0       │\n",
       "│ 1.0    ┆ 8.0       ┆ 37         ┆ 5          ┆ … ┆ 0.022322   ┆ 0.058037   ┆ 0.073659  ┆ 0       │\n",
       "│ 2.0    ┆ 7.0       ┆ 37         ┆ 5          ┆ … ┆ 0.014336   ┆ 0.037274   ┆ 0.023654  ┆ 0       │\n",
       "└────────┴───────────┴────────────┴────────────┴───┴────────────┴────────────┴───────────┴─────────┘"
      ]
     },
     "execution_count": 6,
     "metadata": {},
     "output_type": "execute_result"
    }
   ],
   "source": [
    "train = pl.read_parquet('../data/train.parquet')\n",
    "train.head()"
   ]
  },
  {
   "cell_type": "code",
   "execution_count": 7,
   "id": "4cb7b8e8",
   "metadata": {},
   "outputs": [
    {
     "data": {
      "text/html": [
       "<div><style>\n",
       ".dataframe > thead > tr,\n",
       ".dataframe > tbody > tr {\n",
       "  text-align: right;\n",
       "  white-space: pre-wrap;\n",
       "}\n",
       "</style>\n",
       "<small>shape: (5, 119)</small><table border=\"1\" class=\"dataframe\"><thead><tr><th>ID</th><th>gender</th><th>age_group</th><th>inventory_id</th><th>day_of_week</th><th>hour</th><th>seq</th><th>l_feat_1</th><th>l_feat_2</th><th>l_feat_3</th><th>l_feat_4</th><th>l_feat_5</th><th>l_feat_6</th><th>l_feat_7</th><th>l_feat_8</th><th>l_feat_9</th><th>l_feat_10</th><th>l_feat_11</th><th>l_feat_12</th><th>l_feat_13</th><th>l_feat_14</th><th>l_feat_15</th><th>l_feat_16</th><th>l_feat_17</th><th>l_feat_18</th><th>l_feat_19</th><th>l_feat_20</th><th>l_feat_21</th><th>l_feat_22</th><th>l_feat_23</th><th>l_feat_24</th><th>l_feat_25</th><th>l_feat_26</th><th>l_feat_27</th><th>feat_e_1</th><th>feat_e_2</th><th>feat_e_3</th><th>&hellip;</th><th>history_a_1</th><th>history_a_2</th><th>history_a_3</th><th>history_a_4</th><th>history_a_5</th><th>history_a_6</th><th>history_a_7</th><th>history_b_1</th><th>history_b_2</th><th>history_b_3</th><th>history_b_4</th><th>history_b_5</th><th>history_b_6</th><th>history_b_7</th><th>history_b_8</th><th>history_b_9</th><th>history_b_10</th><th>history_b_11</th><th>history_b_12</th><th>history_b_13</th><th>history_b_14</th><th>history_b_15</th><th>history_b_16</th><th>history_b_17</th><th>history_b_18</th><th>history_b_19</th><th>history_b_20</th><th>history_b_21</th><th>history_b_22</th><th>history_b_23</th><th>history_b_24</th><th>history_b_25</th><th>history_b_26</th><th>history_b_27</th><th>history_b_28</th><th>history_b_29</th><th>history_b_30</th></tr><tr><td>str</td><td>str</td><td>str</td><td>str</td><td>str</td><td>str</td><td>str</td><td>f32</td><td>f32</td><td>f32</td><td>f32</td><td>f32</td><td>f32</td><td>f32</td><td>f32</td><td>f32</td><td>f32</td><td>f32</td><td>f32</td><td>f32</td><td>f32</td><td>f32</td><td>f32</td><td>f32</td><td>f32</td><td>f32</td><td>f32</td><td>f32</td><td>f32</td><td>f32</td><td>f32</td><td>f32</td><td>f32</td><td>f32</td><td>f32</td><td>f32</td><td>f32</td><td>&hellip;</td><td>f32</td><td>f32</td><td>f32</td><td>f32</td><td>f32</td><td>f32</td><td>f32</td><td>f32</td><td>f32</td><td>f32</td><td>f32</td><td>f32</td><td>f32</td><td>f32</td><td>f32</td><td>f32</td><td>f32</td><td>f32</td><td>f32</td><td>f32</td><td>f32</td><td>f32</td><td>f32</td><td>f32</td><td>f32</td><td>f32</td><td>f32</td><td>f32</td><td>f32</td><td>f32</td><td>f32</td><td>f32</td><td>f32</td><td>f32</td><td>f32</td><td>f32</td><td>f32</td></tr></thead><tbody><tr><td>&quot;TEST_0000000&quot;</td><td>&quot;2.0&quot;</td><td>&quot;6.0&quot;</td><td>&quot;46&quot;</td><td>&quot;7&quot;</td><td>&quot;13&quot;</td><td>&quot;321,269,57,516,479,516,57,479,…</td><td>2.0</td><td>2.0</td><td>2.0</td><td>19.0</td><td>1047.0</td><td>161.0</td><td>265.0</td><td>2.0</td><td>232.0</td><td>96.0</td><td>1513.0</td><td>4944.0</td><td>2.0</td><td>2065.0</td><td>1713.0</td><td>1.0</td><td>232.0</td><td>1.0</td><td>2.0</td><td>2.0</td><td>2.0</td><td>2.0</td><td>1.0</td><td>1.0</td><td>1674.0</td><td>16.0</td><td>1.0</td><td>65.0</td><td>-2554.314697</td><td>15.909091</td><td>&hellip;</td><td>0.060337</td><td>-0.166667</td><td>0.060976</td><td>-355.0</td><td>-0.043478</td><td>-180.428574</td><td>-13.326923</td><td>0.236312</td><td>0.281649</td><td>0.048257</td><td>0.051422</td><td>0.026897</td><td>0.001582</td><td>0.025315</td><td>0.052213</td><td>0.004747</td><td>0.02136</td><td>0.073572</td><td>0.014241</td><td>0.029271</td><td>0.059333</td><td>0.000791</td><td>0.073572</td><td>0.016613</td><td>0.011866</td><td>0.010284</td><td>0.00712</td><td>0.008702</td><td>0.071199</td><td>0.071199</td><td>0.011866</td><td>0.004747</td><td>0.044302</td><td>0.05063</td><td>0.015822</td><td>0.041137</td><td>0.104432</td></tr><tr><td>&quot;TEST_0000001&quot;</td><td>&quot;2.0&quot;</td><td>&quot;8.0&quot;</td><td>&quot;29&quot;</td><td>&quot;7&quot;</td><td>&quot;21&quot;</td><td>&quot;57,35,479,57,463,212,193,151,4…</td><td>2.0</td><td>2.0</td><td>2.0</td><td>7.0</td><td>1024.0</td><td>297.0</td><td>47.0</td><td>2.0</td><td>220.0</td><td>57.0</td><td>1422.0</td><td>4758.0</td><td>1.0</td><td>1082.0</td><td>675.0</td><td>1.0</td><td>220.0</td><td>1.0</td><td>2.0</td><td>2.0</td><td>2.0</td><td>2.0</td><td>1.0</td><td>1.0</td><td>1129.0</td><td>15.0</td><td>1.0</td><td>65.0</td><td>-684.240723</td><td>6.818182</td><td>&hellip;</td><td>0.024875</td><td>0.0</td><td>0.0</td><td>-143.428574</td><td>0.0</td><td>-63.857143</td><td>-3.942308</td><td>0.19903</td><td>0.198657</td><td>0.136158</td><td>0.145086</td><td>0.075891</td><td>0.004464</td><td>0.071427</td><td>0.147319</td><td>0.013393</td><td>0.060267</td><td>0.207585</td><td>0.020089</td><td>0.082588</td><td>0.167407</td><td>0.002232</td><td>0.207585</td><td>0.046874</td><td>0.033482</td><td>0.029017</td><td>0.006696</td><td>0.024553</td><td>0.200889</td><td>0.200889</td><td>0.033482</td><td>0.013393</td><td>0.124998</td><td>0.142854</td><td>0.044642</td><td>0.116069</td><td>0.073659</td></tr><tr><td>&quot;TEST_0000002&quot;</td><td>&quot;1.0&quot;</td><td>&quot;6.0&quot;</td><td>&quot;37&quot;</td><td>&quot;7&quot;</td><td>&quot;19&quot;</td><td>&quot;57,516,97,74,527,77,318,315,31…</td><td>2.0</td><td>2.0</td><td>3.0</td><td>7.0</td><td>562.0</td><td>107.0</td><td>63.0</td><td>2.0</td><td>118.0</td><td>157.0</td><td>90.0</td><td>2100.0</td><td>2.0</td><td>1337.0</td><td>1329.0</td><td>1.0</td><td>118.0</td><td>2.0</td><td>2.0</td><td>2.0</td><td>2.0</td><td>2.0</td><td>1.0</td><td>1.0</td><td>1129.0</td><td>11.0</td><td>1.0</td><td>64.638885</td><td>-2239.722168</td><td>4.318182</td><td>&hellip;</td><td>0.031765</td><td>0.0</td><td>0.0</td><td>-112.285713</td><td>0.0</td><td>-72.14286</td><td>-5.173077</td><td>0.151852</td><td>0.175891</td><td>0.120554</td><td>0.128459</td><td>0.067194</td><td>0.003953</td><td>0.063242</td><td>0.130436</td><td>0.011858</td><td>0.05336</td><td>0.183796</td><td>0.017787</td><td>0.073123</td><td>0.148223</td><td>0.001976</td><td>0.183796</td><td>0.041502</td><td>0.029645</td><td>0.025692</td><td>0.005929</td><td>0.021739</td><td>0.177867</td><td>0.177867</td><td>0.029645</td><td>0.011858</td><td>0.110673</td><td>0.126483</td><td>0.039526</td><td>0.102768</td><td>0.065218</td></tr><tr><td>&quot;TEST_0000003&quot;</td><td>&quot;2.0&quot;</td><td>&quot;7.0&quot;</td><td>&quot;41&quot;</td><td>&quot;7&quot;</td><td>&quot;09&quot;</td><td>&quot;144,321,57,479,57,479,35,57,51…</td><td>2.0</td><td>2.0</td><td>2.0</td><td>7.0</td><td>444.0</td><td>56.0</td><td>212.0</td><td>2.0</td><td>171.0</td><td>36.0</td><td>481.0</td><td>2377.0</td><td>1.0</td><td>102.0</td><td>1157.0</td><td>1.0</td><td>171.0</td><td>4.0</td><td>2.0</td><td>2.0</td><td>2.0</td><td>2.0</td><td>1.0</td><td>1.0</td><td>1129.0</td><td>1.0</td><td>5.0</td><td>64.638885</td><td>-1097.240723</td><td>11.363636</td><td>&hellip;</td><td>0.02606</td><td>-0.055556</td><td>0.02439</td><td>-411.0</td><td>-0.014493</td><td>-237.428574</td><td>-17.76923</td><td>0.08865</td><td>0.107031</td><td>0.036679</td><td>0.039085</td><td>0.020444</td><td>0.001203</td><td>0.019242</td><td>0.039686</td><td>0.003608</td><td>0.016235</td><td>0.055921</td><td>0.005412</td><td>0.022248</td><td>0.045098</td><td>0.000601</td><td>0.055921</td><td>0.012627</td><td>0.009019</td><td>0.007817</td><td>0.001804</td><td>0.006614</td><td>0.108234</td><td>0.054117</td><td>0.009019</td><td>0.003608</td><td>0.033673</td><td>0.038483</td><td>0.012026</td><td>0.031268</td><td>0.039686</td></tr><tr><td>&quot;TEST_0000004&quot;</td><td>&quot;1.0&quot;</td><td>&quot;8.0&quot;</td><td>&quot;2&quot;</td><td>&quot;7&quot;</td><td>&quot;18&quot;</td><td>&quot;269,57,516,342,516,403,173,457…</td><td>2.0</td><td>2.0</td><td>3.0</td><td>8.0</td><td>709.0</td><td>738.0</td><td>22.0</td><td>2.0</td><td>338.0</td><td>100.0</td><td>1153.0</td><td>3886.0</td><td>2.0</td><td>2930.0</td><td>2381.0</td><td>1.0</td><td>338.0</td><td>3.0</td><td>2.0</td><td>2.0</td><td>2.0</td><td>2.0</td><td>1.0</td><td>1.0</td><td>1129.0</td><td>8.0</td><td>1.0</td><td>65.0</td><td>-3665.592529</td><td>2.272727</td><td>&hellip;</td><td>0.091343</td><td>-0.055556</td><td>0.146341</td><td>-508.142853</td><td>0.0</td><td>-240.428574</td><td>-16.73077</td><td>0.047072</td><td>0.105696</td><td>0.036222</td><td>0.038597</td><td>0.020189</td><td>0.001188</td><td>0.019002</td><td>0.039191</td><td>0.003563</td><td>0.016033</td><td>0.055223</td><td>0.010688</td><td>0.021971</td><td>0.044535</td><td>0.000594</td><td>0.055223</td><td>0.01247</td><td>0.008907</td><td>0.007719</td><td>0.001781</td><td>0.006532</td><td>0.053442</td><td>0.053442</td><td>0.008907</td><td>0.003563</td><td>0.033253</td><td>0.038003</td><td>0.011876</td><td>0.030878</td><td>0.039191</td></tr></tbody></table></div>"
      ],
      "text/plain": [
       "shape: (5, 119)\n",
       "┌────────────┬────────┬───────────┬────────────┬───┬───────────┬───────────┬───────────┬───────────┐\n",
       "│ ID         ┆ gender ┆ age_group ┆ inventory_ ┆ … ┆ history_b ┆ history_b ┆ history_b ┆ history_b │\n",
       "│ ---        ┆ ---    ┆ ---       ┆ id         ┆   ┆ _27       ┆ _28       ┆ _29       ┆ _30       │\n",
       "│ str        ┆ str    ┆ str       ┆ ---        ┆   ┆ ---       ┆ ---       ┆ ---       ┆ ---       │\n",
       "│            ┆        ┆           ┆ str        ┆   ┆ f32       ┆ f32       ┆ f32       ┆ f32       │\n",
       "╞════════════╪════════╪═══════════╪════════════╪═══╪═══════════╪═══════════╪═══════════╪═══════════╡\n",
       "│ TEST_00000 ┆ 2.0    ┆ 6.0       ┆ 46         ┆ … ┆ 0.05063   ┆ 0.015822  ┆ 0.041137  ┆ 0.104432  │\n",
       "│ 00         ┆        ┆           ┆            ┆   ┆           ┆           ┆           ┆           │\n",
       "│ TEST_00000 ┆ 2.0    ┆ 8.0       ┆ 29         ┆ … ┆ 0.142854  ┆ 0.044642  ┆ 0.116069  ┆ 0.073659  │\n",
       "│ 01         ┆        ┆           ┆            ┆   ┆           ┆           ┆           ┆           │\n",
       "│ TEST_00000 ┆ 1.0    ┆ 6.0       ┆ 37         ┆ … ┆ 0.126483  ┆ 0.039526  ┆ 0.102768  ┆ 0.065218  │\n",
       "│ 02         ┆        ┆           ┆            ┆   ┆           ┆           ┆           ┆           │\n",
       "│ TEST_00000 ┆ 2.0    ┆ 7.0       ┆ 41         ┆ … ┆ 0.038483  ┆ 0.012026  ┆ 0.031268  ┆ 0.039686  │\n",
       "│ 03         ┆        ┆           ┆            ┆   ┆           ┆           ┆           ┆           │\n",
       "│ TEST_00000 ┆ 1.0    ┆ 8.0       ┆ 2          ┆ … ┆ 0.038003  ┆ 0.011876  ┆ 0.030878  ┆ 0.039191  │\n",
       "│ 04         ┆        ┆           ┆            ┆   ┆           ┆           ┆           ┆           │\n",
       "└────────────┴────────┴───────────┴────────────┴───┴───────────┴───────────┴───────────┴───────────┘"
      ]
     },
     "execution_count": 7,
     "metadata": {},
     "output_type": "execute_result"
    }
   ],
   "source": [
    "test = pl.read_parquet('../data/test.parquet')\n",
    "test.head()"
   ]
  },
  {
   "cell_type": "code",
   "execution_count": 8,
   "id": "ebe74a70",
   "metadata": {},
   "outputs": [
    {
     "name": "stdout",
     "output_type": "stream",
     "text": [
      "shape: (5, 119)\n",
      "┌────────┬───────────┬────────────┬────────────┬───┬────────────┬────────────┬───────────┬─────────┐\n",
      "│ gender ┆ age_group ┆ inventory_ ┆ day_of_wee ┆ … ┆ history_b_ ┆ history_b_ ┆ history_b ┆ clicked │\n",
      "│ ---    ┆ ---       ┆ id         ┆ k          ┆   ┆ 28         ┆ 29         ┆ _30       ┆ ---     │\n",
      "│ str    ┆ str       ┆ ---        ┆ ---        ┆   ┆ ---        ┆ ---        ┆ ---       ┆ i32     │\n",
      "│        ┆           ┆ str        ┆ str        ┆   ┆ f32        ┆ f32        ┆ f32       ┆         │\n",
      "╞════════╪═══════════╪════════════╪════════════╪═══╪════════════╪════════════╪═══════════╪═════════╡\n",
      "│ 1.0    ┆ 7.0       ┆ 36         ┆ 5          ┆ … ┆ 0.015576   ┆ 0.040498   ┆ 0.051401  ┆ 0       │\n",
      "│ 1.0    ┆ 7.0       ┆ 2          ┆ 5          ┆ … ┆ 0.01622    ┆ 0.042172   ┆ 0.026763  ┆ 0       │\n",
      "│ 1.0    ┆ 7.0       ┆ 36         ┆ 5          ┆ … ┆ 0.012706   ┆ 0.033036   ┆ 0.062898  ┆ 0       │\n",
      "│ 1.0    ┆ 8.0       ┆ 37         ┆ 5          ┆ … ┆ 0.022322   ┆ 0.058037   ┆ 0.073659  ┆ 0       │\n",
      "│ 2.0    ┆ 7.0       ┆ 37         ┆ 5          ┆ … ┆ 0.014336   ┆ 0.037274   ┆ 0.023654  ┆ 0       │\n",
      "└────────┴───────────┴────────────┴────────────┴───┴────────────┴────────────┴───────────┴─────────┘\n",
      "['gender', 'age_group', 'inventory_id', 'day_of_week', 'hour', 'seq', 'l_feat_1', 'l_feat_2', 'l_feat_3', 'l_feat_4', 'l_feat_5', 'l_feat_6', 'l_feat_7', 'l_feat_8', 'l_feat_9', 'l_feat_10', 'l_feat_11', 'l_feat_12', 'l_feat_13', 'l_feat_14', 'l_feat_15', 'l_feat_16', 'l_feat_17', 'l_feat_18', 'l_feat_19', 'l_feat_20', 'l_feat_21', 'l_feat_22', 'l_feat_23', 'l_feat_24', 'l_feat_25', 'l_feat_26', 'l_feat_27', 'feat_e_1', 'feat_e_2', 'feat_e_3', 'feat_e_4', 'feat_e_5', 'feat_e_6', 'feat_e_7', 'feat_e_8', 'feat_e_9', 'feat_e_10', 'feat_d_1', 'feat_d_2', 'feat_d_3', 'feat_d_4', 'feat_d_5', 'feat_d_6', 'feat_c_1', 'feat_c_2', 'feat_c_3', 'feat_c_4', 'feat_c_5', 'feat_c_6', 'feat_c_7', 'feat_c_8', 'feat_b_1', 'feat_b_2', 'feat_b_3', 'feat_b_4', 'feat_b_5', 'feat_b_6', 'feat_a_1', 'feat_a_2', 'feat_a_3', 'feat_a_4', 'feat_a_5', 'feat_a_6', 'feat_a_7', 'feat_a_8', 'feat_a_9', 'feat_a_10', 'feat_a_11', 'feat_a_12', 'feat_a_13', 'feat_a_14', 'feat_a_15', 'feat_a_16', 'feat_a_17', 'feat_a_18', 'history_a_1', 'history_a_2', 'history_a_3', 'history_a_4', 'history_a_5', 'history_a_6', 'history_a_7', 'history_b_1', 'history_b_2', 'history_b_3', 'history_b_4', 'history_b_5', 'history_b_6', 'history_b_7', 'history_b_8', 'history_b_9', 'history_b_10', 'history_b_11', 'history_b_12', 'history_b_13', 'history_b_14', 'history_b_15', 'history_b_16', 'history_b_17', 'history_b_18', 'history_b_19', 'history_b_20', 'history_b_21', 'history_b_22', 'history_b_23', 'history_b_24', 'history_b_25', 'history_b_26', 'history_b_27', 'history_b_28', 'history_b_29', 'history_b_30', 'clicked']\n",
      "(10704179, 119)\n"
     ]
    }
   ],
   "source": [
    "print(train.head())         # 상위 5개 행 출력\n",
    "print(train.columns)        # 컬럼명 출력\n",
    "print(train.shape)          # (행, 열) 개수\n"
   ]
  },
  {
   "cell_type": "code",
   "execution_count": 9,
   "id": "97203cbf",
   "metadata": {},
   "outputs": [
    {
     "name": "stdout",
     "output_type": "stream",
     "text": [
      "shape: (9, 120)\n",
      "┌────────────┬────────┬───────────┬────────────┬───┬────────────┬───────────┬───────────┬──────────┐\n",
      "│ statistic  ┆ gender ┆ age_group ┆ inventory_ ┆ … ┆ history_b_ ┆ history_b ┆ history_b ┆ clicked  │\n",
      "│ ---        ┆ ---    ┆ ---       ┆ id         ┆   ┆ 28         ┆ _29       ┆ _30       ┆ ---      │\n",
      "│ str        ┆ str    ┆ str       ┆ ---        ┆   ┆ ---        ┆ ---       ┆ ---       ┆ f64      │\n",
      "│            ┆        ┆           ┆ str        ┆   ┆ f64        ┆ f64       ┆ f64       ┆          │\n",
      "╞════════════╪════════╪═══════════╪════════════╪═══╪════════════╪═══════════╪═══════════╪══════════╡\n",
      "│ count      ┆ 9986   ┆ 9986      ┆ 10000      ┆ … ┆ 9986.0     ┆ 9986.0    ┆ 9986.0    ┆ 10000.0  │\n",
      "│ null_count ┆ 14     ┆ 14        ┆ 0          ┆ … ┆ 14.0       ┆ 14.0      ┆ 14.0      ┆ 0.0      │\n",
      "│ mean       ┆ null   ┆ null      ┆ null       ┆ … ┆ 0.085875   ┆ 0.220603  ┆ 0.194192  ┆ 0.0204   │\n",
      "│ std        ┆ null   ┆ null      ┆ null       ┆ … ┆ 0.35605    ┆ 0.925508  ┆ 0.618133  ┆ 0.141371 │\n",
      "│ min        ┆ 1.0    ┆ 1.0       ┆ 11         ┆ … ┆ 0.0        ┆ 0.0       ┆ 0.0       ┆ 0.0      │\n",
      "│ 25%        ┆ null   ┆ null      ┆ null       ┆ … ┆ 0.012286   ┆ 0.030108  ┆ 0.043478  ┆ 0.0      │\n",
      "│ 50%        ┆ null   ┆ null      ┆ null       ┆ … ┆ 0.021506   ┆ 0.053279  ┆ 0.077194  ┆ 0.0      │\n",
      "│ 75%        ┆ null   ┆ null      ┆ null       ┆ … ┆ 0.046404   ┆ 0.11738   ┆ 0.146018  ┆ 0.0      │\n",
      "│ max        ┆ 2.0    ┆ 8.0       ┆ 95         ┆ … ┆ 10.0       ┆ 26.0      ┆ 16.5      ┆ 1.0      │\n",
      "└────────────┴────────┴───────────┴────────────┴───┴────────────┴───────────┴───────────┴──────────┘\n"
     ]
    }
   ],
   "source": [
    "sample_train = train.sample(n=10000,seed=42)\n",
    "print(sample_train.describe())"
   ]
  },
  {
   "cell_type": "code",
   "execution_count": 10,
   "id": "b382cac6",
   "metadata": {},
   "outputs": [
    {
     "name": "stdout",
     "output_type": "stream",
     "text": [
      "shape: (1, 119)\n",
      "┌────────┬───────────┬────────────┬────────────┬───┬────────────┬────────────┬───────────┬─────────┐\n",
      "│ gender ┆ age_group ┆ inventory_ ┆ day_of_wee ┆ … ┆ history_b_ ┆ history_b_ ┆ history_b ┆ clicked │\n",
      "│ ---    ┆ ---       ┆ id         ┆ k          ┆   ┆ 28         ┆ 29         ┆ _30       ┆ ---     │\n",
      "│ u32    ┆ u32       ┆ ---        ┆ ---        ┆   ┆ ---        ┆ ---        ┆ ---       ┆ u32     │\n",
      "│        ┆           ┆ u32        ┆ u32        ┆   ┆ u32        ┆ u32        ┆ u32       ┆         │\n",
      "╞════════╪═══════════╪════════════╪════════════╪═══╪════════════╪════════════╪═══════════╪═════════╡\n",
      "│ 17208  ┆ 17208     ┆ 0          ┆ 0          ┆ … ┆ 17208      ┆ 17208      ┆ 17208     ┆ 0       │\n",
      "└────────┴───────────┴────────────┴────────────┴───┴────────────┴────────────┴───────────┴─────────┘\n",
      "<bound method DataFrame.n_unique of shape: (10_704_179, 119)\n",
      "┌────────┬───────────┬────────────┬────────────┬───┬────────────┬────────────┬───────────┬─────────┐\n",
      "│ gender ┆ age_group ┆ inventory_ ┆ day_of_wee ┆ … ┆ history_b_ ┆ history_b_ ┆ history_b ┆ clicked │\n",
      "│ ---    ┆ ---       ┆ id         ┆ k          ┆   ┆ 28         ┆ 29         ┆ _30       ┆ ---     │\n",
      "│ str    ┆ str       ┆ ---        ┆ ---        ┆   ┆ ---        ┆ ---        ┆ ---       ┆ i32     │\n",
      "│        ┆           ┆ str        ┆ str        ┆   ┆ f32        ┆ f32        ┆ f32       ┆         │\n",
      "╞════════╪═══════════╪════════════╪════════════╪═══╪════════════╪════════════╪═══════════╪═════════╡\n",
      "│ 1.0    ┆ 7.0       ┆ 36         ┆ 5          ┆ … ┆ 0.015576   ┆ 0.040498   ┆ 0.051401  ┆ 0       │\n",
      "│ 1.0    ┆ 7.0       ┆ 2          ┆ 5          ┆ … ┆ 0.01622    ┆ 0.042172   ┆ 0.026763  ┆ 0       │\n",
      "│ 1.0    ┆ 7.0       ┆ 36         ┆ 5          ┆ … ┆ 0.012706   ┆ 0.033036   ┆ 0.062898  ┆ 0       │\n",
      "│ 1.0    ┆ 8.0       ┆ 37         ┆ 5          ┆ … ┆ 0.022322   ┆ 0.058037   ┆ 0.073659  ┆ 0       │\n",
      "│ 2.0    ┆ 7.0       ┆ 37         ┆ 5          ┆ … ┆ 0.014336   ┆ 0.037274   ┆ 0.023654  ┆ 0       │\n",
      "│ …      ┆ …         ┆ …          ┆ …          ┆ … ┆ …          ┆ …          ┆ …         ┆ …       │\n",
      "│ 1.0    ┆ 6.0       ┆ 29         ┆ 5          ┆ … ┆ 0.011268   ┆ 0.029297   ┆ 0.018592  ┆ 0       │\n",
      "│ 1.0    ┆ 8.0       ┆ 36         ┆ 5          ┆ … ┆ 0.009514   ┆ 0.024736   ┆ 0.031399  ┆ 0       │\n",
      "│ 1.0    ┆ 8.0       ┆ 2          ┆ 5          ┆ … ┆ 0.008194   ┆ 0.021304   ┆ 0.121671  ┆ 1       │\n",
      "│ 1.0    ┆ 7.0       ┆ 2          ┆ 5          ┆ … ┆ 0.037174   ┆ 0.096652   ┆ 0.061337  ┆ 0       │\n",
      "│ 1.0    ┆ 7.0       ┆ 31         ┆ 5          ┆ … ┆ 0.00998    ┆ 0.025948   ┆ 0.049401  ┆ 0       │\n",
      "└────────┴───────────┴────────────┴────────────┴───┴────────────┴────────────┴───────────┴─────────┘>\n"
     ]
    }
   ],
   "source": [
    "print(train.null_count())\n",
    "print(train.n_unique)"
   ]
  },
  {
   "cell_type": "code",
   "execution_count": 16,
   "id": "025a8e36",
   "metadata": {},
   "outputs": [
    {
     "name": "stdout",
     "output_type": "stream",
     "text": [
      "shape: (10_704_179,)\n",
      "Series: 'seq' [str]\n",
      "[\n",
      "\t\"9,18,269,516,57,97,527,74,317,…\n",
      "\t\"9,144,269,57,516,97,527,74,315…\n",
      "\t\"269,516,57,97,165,527,74,77,31…\n",
      "\t\"269,57,516,21,214,269,561,214,…\n",
      "\t\"144,269,57,516,35,479,57,516,5…\n",
      "\t…\n",
      "\t\"9,144,269,57,516,417,227,27,22…\n",
      "\t\"9,57,516,97,74,527,318,463,212…\n",
      "\t\"9,516,57,195,27,516,173,457,40…\n",
      "\t\"9,57,516,97,74,527,318,77,317,…\n",
      "\t\"9,57,74,317,269,479,311,35,57,…\n",
      "]\n"
     ]
    }
   ],
   "source": [
    "print(train['seq'])"
   ]
  },
  {
   "cell_type": "markdown",
   "id": "c225c8ac",
   "metadata": {},
   "source": [
    "## Data Column Setting"
   ]
  },
  {
   "cell_type": "markdown",
   "id": "220b027d",
   "metadata": {},
   "source": [
    "## Define Custom Dataset"
   ]
  },
  {
   "cell_type": "markdown",
   "id": "8f342494",
   "metadata": {},
   "source": [
    "## Define Model Architecture"
   ]
  },
  {
   "cell_type": "markdown",
   "id": "963d5dc1",
   "metadata": {},
   "source": [
    "## Train / Validation"
   ]
  },
  {
   "cell_type": "markdown",
   "id": "dd7248a0",
   "metadata": {},
   "source": [
    "## Run!!"
   ]
  },
  {
   "cell_type": "markdown",
   "id": "4e837435",
   "metadata": {},
   "source": [
    "## Submission"
   ]
  }
 ],
 "metadata": {
  "kernelspec": {
   "display_name": ".venv",
   "language": "python",
   "name": "python3"
  },
  "language_info": {
   "codemirror_mode": {
    "name": "ipython",
    "version": 3
   },
   "file_extension": ".py",
   "mimetype": "text/x-python",
   "name": "python",
   "nbconvert_exporter": "python",
   "pygments_lexer": "ipython3",
   "version": "3.13.7"
  }
 },
 "nbformat": 4,
 "nbformat_minor": 5
}
